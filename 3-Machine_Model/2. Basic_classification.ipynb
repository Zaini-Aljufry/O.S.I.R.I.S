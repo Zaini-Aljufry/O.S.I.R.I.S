{
 "cells": [
  {
   "cell_type": "markdown",
   "metadata": {},
   "source": [
    "# 0 Introduction"
   ]
  },
  {
   "cell_type": "markdown",
   "metadata": {},
   "source": [
    "Create a basic model to classify images"
   ]
  },
  {
   "cell_type": "markdown",
   "metadata": {},
   "source": [
    "# Content Page"
   ]
  },
  {
   "cell_type": "markdown",
   "metadata": {},
   "source": [
    "1. Imports\n",
    "2. Pre-processing\n",
    "3. Define Model\n",
    "4. Train Model\n",
    "5. Output"
   ]
  },
  {
   "cell_type": "markdown",
   "metadata": {},
   "source": [
    "# 1 Imports"
   ]
  },
  {
   "cell_type": "markdown",
   "metadata": {},
   "source": [
    "Import modules needed to define and train model"
   ]
  },
  {
   "cell_type": "code",
   "execution_count": 1,
   "metadata": {},
   "outputs": [
    {
     "name": "stderr",
     "output_type": "stream",
     "text": [
      "Using TensorFlow backend.\n"
     ]
    }
   ],
   "source": [
    "import numpy as np\n",
    "import matplotlib.pyplot as plt\n",
    "import os\n",
    "import cv2\n",
    "import random\n",
    "import pickle\n",
    "import tensorflow as tf\n",
    "\n",
    "from keras.models import Sequential\n",
    "from keras.layers import Dense, Dropout, Activation, Flatten, Conv2D, MaxPooling2D"
   ]
  },
  {
   "cell_type": "markdown",
   "metadata": {},
   "source": [
    "# 2 Pre-processing"
   ]
  },
  {
   "cell_type": "markdown",
   "metadata": {},
   "source": [
    "Get processed images for training"
   ]
  },
  {
   "cell_type": "code",
   "execution_count": 2,
   "metadata": {},
   "outputs": [],
   "source": [
    "IMG_SIZE = 50\n",
    "\n",
    "pickle_in = open(\"X_basic.pickle\",\"rb\")\n",
    "X = pickle.load(pickle_in)\n",
    "\n",
    "pickle_in = open(\"y_basic.pickle\",\"rb\")\n",
    "y = pickle.load(pickle_in)"
   ]
  },
  {
   "cell_type": "markdown",
   "metadata": {},
   "source": [
    "# 3 Define Model"
   ]
  },
  {
   "cell_type": "markdown",
   "metadata": {},
   "source": [
    "Defining a simple model of 50-55% Accuracy"
   ]
  },
  {
   "cell_type": "code",
   "execution_count": 3,
   "metadata": {},
   "outputs": [],
   "source": [
    "X = X/255.0\n",
    "\n",
    "model = Sequential()\n",
    "#model.add(Conv2D(64, (3,3), input_shape = X.shape[1:]))\n",
    "model.add(Conv2D(32,(3,3), input_shape=(50,50,1)))\n",
    "model.add(Activation(\"relu\"))\n",
    "model.add(MaxPooling2D(pool_size=(2,2)))\n",
    "\n",
    "model.add(Conv2D(64, (3,3)))\n",
    "model.add(Activation(\"relu\"))\n",
    "model.add(MaxPooling2D(pool_size=(2,2)))\n",
    "\n",
    "model.add(Conv2D(64, (3,3)))\n",
    "model.add(Activation(\"relu\"))\n",
    "model.add(MaxPooling2D(pool_size=(2,2)))\n",
    "\n",
    "model.add(Flatten())\n",
    "model.add(Dense(64))\n",
    "model.add(Activation(\"relu\"))\n",
    "\n",
    "model.add(Dense(5))\n",
    "model.add(Activation(\"softmax\"))\n",
    "\n",
    "model.compile(loss=\"sparse_categorical_crossentropy\",\n",
    "              optimizer=\"adam\",\n",
    "              metrics=['accuracy'])"
   ]
  },
  {
   "cell_type": "markdown",
   "metadata": {},
   "source": [
    "# 4 Model Training"
   ]
  },
  {
   "cell_type": "markdown",
   "metadata": {},
   "source": [
    "Train model with processed dataset"
   ]
  },
  {
   "cell_type": "code",
   "execution_count": 4,
   "metadata": {},
   "outputs": [
    {
     "name": "stdout",
     "output_type": "stream",
     "text": [
      "Train on 3890 samples, validate on 433 samples\n",
      "Epoch 1/10\n",
      "3890/3890 [==============================] - 10s 3ms/step - loss: 1.5737 - accuracy: 0.2797 - val_loss: 1.4752 - val_accuracy: 0.3441\n",
      "Epoch 2/10\n",
      "3890/3890 [==============================] - 13s 3ms/step - loss: 1.4714 - accuracy: 0.3566 - val_loss: 1.4457 - val_accuracy: 0.3649\n",
      "Epoch 3/10\n",
      "3890/3890 [==============================] - 12s 3ms/step - loss: 1.4060 - accuracy: 0.4021 - val_loss: 1.4073 - val_accuracy: 0.4018\n",
      "Epoch 4/10\n",
      "3890/3890 [==============================] - 11s 3ms/step - loss: 1.3141 - accuracy: 0.4584 - val_loss: 1.3271 - val_accuracy: 0.4688\n",
      "Epoch 5/10\n",
      "3890/3890 [==============================] - 12s 3ms/step - loss: 1.2467 - accuracy: 0.4959 - val_loss: 1.3297 - val_accuracy: 0.4388\n",
      "Epoch 6/10\n",
      "3890/3890 [==============================] - 13s 3ms/step - loss: 1.1972 - accuracy: 0.5157 - val_loss: 1.3169 - val_accuracy: 0.4619\n",
      "Epoch 7/10\n",
      "3890/3890 [==============================] - 11s 3ms/step - loss: 1.1413 - accuracy: 0.5429 - val_loss: 1.2405 - val_accuracy: 0.4965\n",
      "Epoch 8/10\n",
      "3890/3890 [==============================] - 11s 3ms/step - loss: 1.0536 - accuracy: 0.5851 - val_loss: 1.2216 - val_accuracy: 0.5081\n",
      "Epoch 9/10\n",
      "3890/3890 [==============================] - 11s 3ms/step - loss: 1.0117 - accuracy: 0.6172 - val_loss: 1.1890 - val_accuracy: 0.5404\n",
      "Epoch 10/10\n",
      "3890/3890 [==============================] - 10s 3ms/step - loss: 0.9627 - accuracy: 0.6288 - val_loss: 1.2093 - val_accuracy: 0.5358\n"
     ]
    },
    {
     "data": {
      "text/plain": [
       "<keras.callbacks.callbacks.History at 0x2900160a128>"
      ]
     },
     "execution_count": 4,
     "metadata": {},
     "output_type": "execute_result"
    }
   ],
   "source": [
    "model.fit(X, y, epochs=10, validation_split=0.1)"
   ]
  },
  {
   "cell_type": "markdown",
   "metadata": {},
   "source": [
    "# 5 Output"
   ]
  },
  {
   "cell_type": "markdown",
   "metadata": {},
   "source": [
    "Export model to be used in another file or at another time"
   ]
  },
  {
   "cell_type": "code",
   "execution_count": 5,
   "metadata": {},
   "outputs": [],
   "source": [
    "model.save(\"basic_classification.model\")"
   ]
  }
 ],
 "metadata": {
  "kernelspec": {
   "display_name": "Python 3",
   "language": "python",
   "name": "python3"
  },
  "language_info": {
   "codemirror_mode": {
    "name": "ipython",
    "version": 3
   },
   "file_extension": ".py",
   "mimetype": "text/x-python",
   "name": "python",
   "nbconvert_exporter": "python",
   "pygments_lexer": "ipython3",
   "version": "3.7.3"
  }
 },
 "nbformat": 4,
 "nbformat_minor": 2
}
