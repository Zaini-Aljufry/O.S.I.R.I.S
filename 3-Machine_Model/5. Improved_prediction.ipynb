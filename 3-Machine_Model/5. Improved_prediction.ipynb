{
 "cells": [
  {
   "cell_type": "markdown",
   "metadata": {},
   "source": [
    "# 0 Introduction"
   ]
  },
  {
   "cell_type": "markdown",
   "metadata": {},
   "source": [
    "Predict images using an improved model with a higher accuracy and export images with classified labels."
   ]
  },
  {
   "cell_type": "markdown",
   "metadata": {},
   "source": [
    "# Content Page"
   ]
  },
  {
   "cell_type": "markdown",
   "metadata": {},
   "source": [
    "1. Import\n",
    "2. Image Pre-processing\n",
    "3. Predict Images\n",
    "4. Output"
   ]
  },
  {
   "cell_type": "markdown",
   "metadata": {},
   "source": [
    "# 1 Import"
   ]
  },
  {
   "cell_type": "markdown",
   "metadata": {},
   "source": [
    "Modules needed to predict images using improved model"
   ]
  },
  {
   "cell_type": "code",
   "execution_count": 16,
   "metadata": {},
   "outputs": [],
   "source": [
    "import numpy as np\n",
    "import matplotlib.pyplot as plt\n",
    "import os\n",
    "import cv2\n",
    "import random\n",
    "import pickle\n",
    "import tensorflow as tf\n",
    "\n",
    "from keras.layers import Input\n",
    "from keras.models import Model\n",
    "from keras.preprocessing import image\n",
    "from keras.applications.vgg16 import VGG16\n",
    "from keras.models import Sequential\n",
    "from keras.layers import Dense, Dropout, Activation, Flatten, Conv2D, MaxPooling2D"
   ]
  },
  {
   "cell_type": "code",
   "execution_count": 17,
   "metadata": {},
   "outputs": [],
   "source": [
    "new_model = tf.keras.models.load_model(\"improved_classification.model\")"
   ]
  },
  {
   "cell_type": "markdown",
   "metadata": {},
   "source": [
    "# 2 Image Pre-processing"
   ]
  },
  {
   "cell_type": "markdown",
   "metadata": {},
   "source": [
    "Process images to be used to predict with model"
   ]
  },
  {
   "cell_type": "code",
   "execution_count": 18,
   "metadata": {},
   "outputs": [],
   "source": [
    "IMG_SIZE = 50\n",
    "\n",
    "CATEGORIES = [\"daisy\",\"dandelion\",\"rose\",\"sunflower\",\"tulip\"]\n",
    "\n",
    "path = \"Test\"\n",
    "\n",
    "test_data = []\n",
    "\n",
    "for img in os.listdir(path):\n",
    "    img_array = cv2.imread(os.path.join(path,img))\n",
    "    new_array = cv2.resize(img_array, (IMG_SIZE, IMG_SIZE))\n",
    "    test_data.append([new_array]) \n",
    "    \n",
    "test_data = np.array(test_data).reshape(-1,IMG_SIZE,IMG_SIZE, 3)    \n",
    "test_data = test_data.astype(float)"
   ]
  },
  {
   "cell_type": "markdown",
   "metadata": {},
   "source": [
    "# 3 Predict Image"
   ]
  },
  {
   "cell_type": "markdown",
   "metadata": {},
   "source": [
    "Predict images with improved model"
   ]
  },
  {
   "cell_type": "code",
   "execution_count": 19,
   "metadata": {},
   "outputs": [],
   "source": [
    "predictions = new_model.predict([test_data]) "
   ]
  },
  {
   "cell_type": "markdown",
   "metadata": {},
   "source": [
    "# 4 Output"
   ]
  },
  {
   "cell_type": "markdown",
   "metadata": {},
   "source": [
    "Export results as images with prediction on label attached to each image"
   ]
  },
  {
   "cell_type": "code",
   "execution_count": 20,
   "metadata": {},
   "outputs": [],
   "source": [
    "#flower_type = CATEGORIES[np.argmax(predictions[3])]\n",
    "\n",
    "#label = \"{}\".format(flower_type)\n",
    "#frame = cv2.putText(cv2.imread('Test/1_sunflower.jpg'),label, (10,25),cv2.FONT_HERSHEY_SIMPLEX, 0.7, (0,255,0), 2)\n",
    "\n",
    "# To test and view image in a window\n",
    "\n",
    "#cv2.imshow(\"Frame\", frame)\n",
    "#cv2.waitKey(10000000)\n",
    "#cv2.destroyAllWindows()"
   ]
  },
  {
   "cell_type": "code",
   "execution_count": 21,
   "metadata": {},
   "outputs": [],
   "source": [
    "# To create border around classified object. Border works but box the whole image and not object. To be improved.\n",
    "\n",
    "#outputImage = cv2.copyMakeBorder(\n",
    "#                frame, \n",
    "#                 top=5, \n",
    "#                 bottom=5, \n",
    "#                 left=5, \n",
    "#                 right=5, \n",
    "#                 borderType=cv2.BORDER_CONSTANT, \n",
    "#                 value=[0,255,0]\n",
    "#              )"
   ]
  },
  {
   "cell_type": "code",
   "execution_count": 22,
   "metadata": {},
   "outputs": [],
   "source": [
    "for index, img in enumerate(os.listdir(path)):\n",
    "    flower_type = CATEGORIES[np.argmax(predictions[index])]\n",
    "    label = \"{}\".format(flower_type)    \n",
    "    frame = cv2.putText(cv2.imread(os.path.join(path,img)),label, (10,25),cv2.FONT_HERSHEY_SIMPLEX, 0.7, (0,255,0), 2)\n",
    "    cv2.imwrite('Output/output_test_' + str(index) + '.jpg', frame)"
   ]
  }
 ],
 "metadata": {
  "kernelspec": {
   "display_name": "Python 3",
   "language": "python",
   "name": "python3"
  },
  "language_info": {
   "codemirror_mode": {
    "name": "ipython",
    "version": 3
   },
   "file_extension": ".py",
   "mimetype": "text/x-python",
   "name": "python",
   "nbconvert_exporter": "python",
   "pygments_lexer": "ipython3",
   "version": "3.7.3"
  }
 },
 "nbformat": 4,
 "nbformat_minor": 2
}
